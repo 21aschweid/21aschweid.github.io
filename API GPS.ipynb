{
 "cells": [
  {
   "cell_type": "code",
   "execution_count": 1,
   "metadata": {},
   "outputs": [
    {
     "name": "stdout",
     "output_type": "stream",
     "text": [
      "keyX9eM6CZu6bXgNt\n"
     ]
    }
   ],
   "source": [
    "def getKey(api_key):\n",
    "    fin = open(api_key)\n",
    "    for line in fin: \n",
    "        key= line.strip()\n",
    "    return key\n",
    "import os\n",
    "\n",
    "print (getKey(\"api_key.txt\"))"
   ]
  },
  {
   "cell_type": "code",
   "execution_count": 1,
   "metadata": {},
   "outputs": [
    {
     "name": "stdout",
     "output_type": "stream",
     "text": [
      "https://api.airtable.com/v0/appcbJA7H8eQpRXS5/GPS?api_key=keyX9eM6CZu6bXgNt\n",
      "Type the url above into your browser and ensure it takes you to your airtable data (in some really weird formatting!)\n"
     ]
    }
   ],
   "source": [
    "# write your solution to Exercise W10.BL02 here\n",
    "def getKey(api_key):\n",
    "    fin = open(api_key)\n",
    "    for line in fin:\n",
    "        key = line.strip()\n",
    "    return key\n",
    "import os\n",
    "# copy the return value and paste here:\n",
    "YOUR_API_KEY=getKey('api_key.txt')\n",
    "BASETABLENAME = 'GPS'\n",
    "'''---------------------------------------------------------'''\n",
    "RANDOM_STRING = \"appcbJA7H8eQpRXS5\" #Put your random string here as shown above\n",
    "'''---------------------------------------------------------'''\n",
    "\n",
    "url = 'https://api.airtable.com/v0/'+RANDOM_STRING+'/'+BASETABLENAME+\"?api_key=\"+YOUR_API_KEY\n",
    "\n",
    "print(url)\n",
    "print('Type the url above into your browser and ensure it takes you to your airtable data (in some really weird formatting!)')"
   ]
  },
  {
   "cell_type": "code",
   "execution_count": 2,
   "metadata": {},
   "outputs": [
    {
     "name": "stdout",
     "output_type": "stream",
     "text": [
      "{\"records\":[{\"id\":\"recAU6nM38zQyodwN\",\"fields\":{\"Name\":\"Alexandra\",\"Number\":17,\"Location\":\"Home\",\"Link to calc\":[\"reciiPjWHGuVjuGDj\"],\"Date\":\"2021-01-12T12:53:28.000Z\",\"HighestQuote\":[17],\"Hnum\":\"Yes\"},\"createdTime\":\"2021-01-12T12:53:28.000Z\"},{\"id\":\"recMfLyJbV99mDq8U\",\"fields\":{\"Name\":\"Samantha\",\"Number\":14,\"Location\":\"School\",\"Link to calc\":[\"recCVLZ3x0fLLT4oa\"],\"Date\":\"2021-01-08T12:54:25.000Z\",\"HighestQuote\":[14],\"Hnum\":\"Yes\"},\"createdTime\":\"2021-01-08T12:54:25.000Z\"},{\"id\":\"recRBd2zwUHZcyvBS\",\"fields\":{\"Name\":\"Bret\",\"Number\":16,\"Location\":\"Work\",\"Link to calc\":[\"recDdvbPn2bprSr3r\"],\"Date\":\"2021-01-08T13:01:38.000Z\",\"HighestQuote\":[16],\"Hnum\":\"Yes\"},\"createdTime\":\"2021-01-08T13:01:38.000Z\"},{\"id\":\"recZxS1tFzTYNJzFh\",\"fields\":{\"Name\":\"Alexandra\",\"Number\":13,\"Location\":\"Dance\",\"Link to calc\":[\"reciiPjWHGuVjuGDj\"],\"Date\":\"2021-01-07T21:44:04.000Z\",\"HighestQuote\":[17],\"Hnum\":\"No\"},\"createdTime\":\"2021-01-07T21:44:04.000Z\"},{\"id\":\"recqUNv9d8AxGN3oH\",\"fields\":{\"Name\":\"Kelly\",\"Number\":15,\"Location\":\"Work\",\"Link to calc\":[\"recRaVTRWA4on3dXr\"],\"Date\":\"2021-01-08T12:58:20.000Z\",\"HighestQuote\":[15],\"Hnum\":\"Yes\"},\"createdTime\":\"2021-01-08T12:58:20.000Z\"}]}\n"
     ]
    }
   ],
   "source": [
    "\"\"\"Make sure you run the code from EX 2 First\"\"\"\n",
    "# write your solution to Exercise W10.BL03 here\n",
    "import json\n",
    "import requests\n",
    "\n",
    "response = requests.get(url)\n",
    "\n",
    "print(response.text)"
   ]
  },
  {
   "cell_type": "code",
   "execution_count": 30,
   "metadata": {},
   "outputs": [
    {
     "name": "stdout",
     "output_type": "stream",
     "text": [
      "Who are you looking for?Alexandra\n",
      "Location Home\n",
      "Who are you looking for?stop\n"
     ]
    }
   ],
   "source": [
    "import json\n",
    "import requests\n",
    "import gopigo3\n",
    "import time\n",
    "import easysensors\n",
    "\n",
    "import RPi.GPIO as GPIO\n",
    "import time\n",
    "\n",
    "\n",
    "GPIO.setwarnings(False)\n",
    "\n",
    "\n",
    "# update the URL with your properly formatted URL\n",
    "response = requests.get(url)\n",
    "data = json.loads(response.text)['records']\n",
    "\n",
    "import pandas as pd\n",
    "import numpy as np\n",
    "from datetime import date \n",
    "today = date.today() and time.strftime(\"%I:%M:%S\")\n",
    "\n",
    "\n",
    "#print(time.strftime(\"%I:%M:%S\"))\n",
    "\"\"\"-------------------------------------------------------------\"\"\"\n",
    "while True:\n",
    "\n",
    "    name= input(\"Who are you looking for?\")\n",
    "    try:\n",
    "        name = int(name)\n",
    "        print(\"Searching...\")\n",
    "    \n",
    "    except:\n",
    "        if name== \"stop\":\n",
    "            break\n",
    "        if name== \"Stop\":\n",
    "            break\n",
    "        \n",
    "\n",
    "        for record in data:\n",
    "            field=record['fields']\n",
    "            Name= field[\"Name\"]\n",
    "            Location=  field['Location']\n",
    "            Date= field['Date']\n",
    "            Number= field['Number']\n",
    "            Hnum= field[\"Hnum\"]\n",
    "            \n",
    "            if name==Name and Hnum==\"Yes\":\n",
    "                print(\"Location:\", Location)\n",
    "            \n",
    "                if Location==\"Home\":\n",
    "                    GPIO.setmode(GPIO.BCM)\n",
    "                    GPIO.setup(17, GPIO.OUT)\n",
    "                    GPIO.output(17, True)\n",
    "                    time.sleep (3)\n",
    "                    GPIO.output(17, False)\n",
    "                    break\n",
    "\n",
    "\n",
    "                elif Location== \"Gymnastics\":\n",
    "                    GPIO.setmode(GPIO.BCM)\n",
    "                    GPIO.setup(25, GPIO.OUT)\n",
    "                    GPIO.output(25, True)\n",
    "                    time.sleep (3)\n",
    "                    GPIO.output(25, False)\n",
    "                    break\n",
    "                    \n",
    "                    \n",
    "                elif Location== \"Dance\":\n",
    "                    GPIO.setmode(GPIO.BCM)\n",
    "                    GPIO.setup(25, GPIO.OUT)\n",
    "                    GPIO.output(25, True)\n",
    "                    time.sleep (3)\n",
    "                    GPIO.output(25, False)\n",
    "                    break\n",
    "\n",
    "\n",
    "                elif Location== \"School\":\n",
    "                    GPIO.setmode(GPIO.BCM)\n",
    "                    GPIO.setup(27, GPIO.OUT)\n",
    "                    GPIO.output(27, True)\n",
    "                    time.sleep (3)\n",
    "                    GPIO.output(27, False)\n",
    "                    break\n",
    "\n",
    "\n",
    "                elif Location== \"Work\":\n",
    "                    GPIO.setmode(GPIO.BCM)\n",
    "                    GPIO.setup(16, GPIO.OUT)\n",
    "                    GPIO.output(16, True)\n",
    "                    time.sleep (3)\n",
    "                    GPIO.output(16, False)\n",
    "                    break\n",
    "\n",
    "                elif Location== \"Other\":\n",
    "                    GPIO.setmode(GPIO.BCM)\n",
    "                    GPIO.setup(12, GPIO.OUT)\n",
    "                    GPIO.output(12,True)\n",
    "                    time.sleep(3)\n",
    "                    GPIO.output(12,False)\n",
    "                    break\n",
    "                    \n",
    "           \n",
    "            \n",
    "\n"
   ]
  },
  {
   "cell_type": "code",
   "execution_count": null,
   "metadata": {},
   "outputs": [],
   "source": [
    "import RPi.GPIO as GPIO\n",
    "import time\n",
    "GPIO.setmode(GPIO.BCM)\n",
    "\n",
    "GPIO.setup(16, GPIO.OUT)\n",
    "GPIO.output(16, True)\n",
    "time.sleep (1)\n",
    "GPIO.output(16, False)\n",
    "\n"
   ]
  },
  {
   "cell_type": "code",
   "execution_count": null,
   "metadata": {},
   "outputs": [],
   "source": [
    " "
   ]
  }
 ],
 "metadata": {
  "kernelspec": {
   "display_name": "Python 3",
   "language": "python",
   "name": "python3"
  },
  "language_info": {
   "codemirror_mode": {
    "name": "ipython",
    "version": 3
   },
   "file_extension": ".py",
   "mimetype": "text/x-python",
   "name": "python",
   "nbconvert_exporter": "python",
   "pygments_lexer": "ipython3",
   "version": "3.5.3"
  }
 },
 "nbformat": 4,
 "nbformat_minor": 2
}
